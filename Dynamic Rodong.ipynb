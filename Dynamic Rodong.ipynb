{
 "cells": [
  {
   "cell_type": "code",
   "execution_count": null,
   "metadata": {},
   "outputs": [],
   "source": [
    "import datetime\n",
    "import urllib.request\n",
    "import os\n",
    "from PyPDF2 import PdfFileReader"
   ]
  },
  {
   "cell_type": "code",
   "execution_count": null,
   "metadata": {},
   "outputs": [],
   "source": [
    "STARTNUM=1\n",
    "TRYNUM=2100"
   ]
  },
  {
   "cell_type": "code",
   "execution_count": null,
   "metadata": {},
   "outputs": [],
   "source": [
    "#Fetch data from Rodong\n",
    "for i in range(STARTNUM,STARTNUM+TRYNUM):\n",
    "    try:\n",
    "        urllib.request.urlretrieve(\"http://www.dprkmedia.net/pdf/rodong/\"+str(i)+\".pdf\",\"rodong/\"str(i)+\".pdf\")\n",
    "    except: \n",
    "        print(\"Download Failled: \"+str(i))\n",
    "    else:\n",
    "        print(str(i))"
   ]
  },
  {
   "cell_type": "code",
   "execution_count": null,
   "metadata": {},
   "outputs": [],
   "source": [
    "#Change filename to date. \n",
    "for i in range(STARTNUM,STARTNUM+TRYNUM):\n",
    "    try: \n",
    "        f=open(\"rodong/\"+str(i)+\".pdf\",\"rb\")\n",
    "    except: \n",
    "        print(\"Error on Opening File: \"+str(i)+\".pdf\")\n",
    "    else:\n",
    "        try:\n",
    "            DATE=str(PdfFileReader(f).getDocumentInfo()['/ModDate'])\n",
    "        except:\n",
    "            print(\"Error on parsing metadata: \"+str(i)+\".pdf\")\n",
    "        finally:\n",
    "            f.close()\n",
    "        try:\n",
    "            os.rename(\"rodong/\"+str(i)+\".pdf\",\"rodong/\"+DATE[2:6]+\"-\"+DATE[6:8]+\"-\"+DATE[8:10]+\".pdf\")\n",
    "        except: \n",
    "            print(\"Error during changing file name: \"+str(i))\n",
    "        else: \n",
    "            print(str(i)+\".pdf ->> \"+DATE[2:6]+\"-\"+DATE[6:8]+\"-\"+DATE[8:10]+\".pdf\")"
   ]
  },
  {
   "cell_type": "code",
   "execution_count": null,
   "metadata": {},
   "outputs": [],
   "source": [
    "#Check Missing Dates\n",
    "STARTDATE=datetime.datetime.strptime(\"2015-01-01\", \"%Y-%m-%d\")\n",
    "ENDDATE=datetime.datetime.strptime(\"2020-01-01\", \"%Y-%m-%d\")\n",
    "for i in range(1,(ENDDATE-STARTDATE).days):\n",
    "    try:\n",
    "        f=open(\"rodong/\"+(STARTDATE+datetime.timedelta(days=i)).strftime('%Y-%m-%d')+\".pdf\")\n",
    "    except: \n",
    "        print((STARTDATE+datetime.timedelta(days=i)).strftime('%Y-%m-%d')+\" is missing.\")\n",
    "    finally:\n",
    "        f.close()"
   ]
  }
 ],
 "metadata": {
  "kernelspec": {
   "display_name": "Python 3",
   "language": "python",
   "name": "python3"
  },
  "language_info": {
   "codemirror_mode": {
    "name": "ipython",
    "version": 3
   },
   "file_extension": ".py",
   "mimetype": "text/x-python",
   "name": "python",
   "nbconvert_exporter": "python",
   "pygments_lexer": "ipython3",
   "version": "3.6.8"
  }
 },
 "nbformat": 4,
 "nbformat_minor": 4
}
